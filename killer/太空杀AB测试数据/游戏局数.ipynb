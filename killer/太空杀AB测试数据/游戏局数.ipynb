{
 "cells": [
  {
   "cell_type": "code",
   "execution_count": 1,
   "metadata": {},
   "outputs": [],
   "source": [
    "import numpy as np\n",
    "import pandas as pd\n",
    "import json\n",
    "import requests\n",
    "def ssql(sql):\n",
    "    admin_token = '2cebeb5c7edac5ef0d7c5a640e69fc7d43bf2cd6a24ce43dfee3dd33662c0bab'\n",
    "    url = 'http://sensor.wb-intra.com/api/sql/query?token=%s&project=production' % admin_token\n",
    "    data = {'q': sql, 'format': 'json'}\n",
    "    req = requests.post(url,data)\n",
    "    req_dec = req.content.decode()\n",
    "    try:\n",
    "        req_json = json.loads('[' + req_dec.replace('\\n', ',')[:-1] + ']')\n",
    "        df_d_id = pd.DataFrame(req_json)\n",
    "        return df_d_id\n",
    "    except:\n",
    "        print(req_dec)\n",
    "    "
   ]
  },
  {
   "cell_type": "code",
   "execution_count": 2,
   "metadata": {},
   "outputs": [],
   "source": [
    "df_A = ssql(\"\"\"SELECT t2.date,\n",
    "       t2.distinct_id,\n",
    "       t2.game_num\n",
    "FROM\n",
    "  (SELECT second_id\n",
    "   FROM users\n",
    "   WHERE reg_channelId IN ('114',\n",
    "                           '130')\n",
    "   GROUP BY 1) t1\n",
    "JOIN\n",
    "  (SELECT date, distinct_id,\n",
    "                count(distinct_id)AS game_num\n",
    "   FROM events\n",
    "   WHERE event = 'gameStart'\n",
    "     AND gameTypeId = 1800\n",
    "     AND date BETWEEN '2020-10-19' AND CURRENT_DATE()\n",
    "   GROUP BY 1,\n",
    "            2)t2 ON t1.second_id = t2.distinct_id \"\"\")"
   ]
  },
  {
   "cell_type": "code",
   "execution_count": 3,
   "metadata": {},
   "outputs": [],
   "source": [
    "df_B = ssql(\"\"\"SELECT t2.date, t2.distinct_id,\n",
    "                t2.game_num\n",
    "FROM\n",
    "  (SELECT second_id\n",
    "   FROM users\n",
    "   WHERE reg_channelId IN ('131',\n",
    "                           '122',\n",
    "                           '113',\n",
    "                           '111',\n",
    "                           '127',\n",
    "                           '112',\n",
    "                           '125',\n",
    "                           '116')\n",
    "   GROUP BY 1) t1\n",
    "JOIN\n",
    "  (SELECT date, distinct_id,\n",
    "                count(distinct_id)AS game_num\n",
    "   FROM events\n",
    "   WHERE event = 'gameStart'\n",
    "     AND gameTypeId = 1800\n",
    "     AND date BETWEEN '2020-10-19' AND CURRENT_DATE()\n",
    "   GROUP BY 1,\n",
    "            2)t2 ON t1.second_id = t2.distinct_id\"\"\")"
   ]
  },
  {
   "cell_type": "code",
   "execution_count": 6,
   "metadata": {},
   "outputs": [
    {
     "data": {
      "text/html": [
       "<div>\n",
       "<style scoped>\n",
       "    .dataframe tbody tr th:only-of-type {\n",
       "        vertical-align: middle;\n",
       "    }\n",
       "\n",
       "    .dataframe tbody tr th {\n",
       "        vertical-align: top;\n",
       "    }\n",
       "\n",
       "    .dataframe thead th {\n",
       "        text-align: right;\n",
       "    }\n",
       "</style>\n",
       "<table border=\"1\" class=\"dataframe\">\n",
       "  <thead>\n",
       "    <tr style=\"text-align: right;\">\n",
       "      <th></th>\n",
       "      <th>date</th>\n",
       "      <th>distinct_id</th>\n",
       "      <th>game_num</th>\n",
       "    </tr>\n",
       "  </thead>\n",
       "  <tbody>\n",
       "    <tr>\n",
       "      <th>0</th>\n",
       "      <td>2020-10-23</td>\n",
       "      <td>121569811</td>\n",
       "      <td>3</td>\n",
       "    </tr>\n",
       "    <tr>\n",
       "      <th>1</th>\n",
       "      <td>2020-10-21</td>\n",
       "      <td>121569811</td>\n",
       "      <td>12</td>\n",
       "    </tr>\n",
       "    <tr>\n",
       "      <th>2</th>\n",
       "      <td>2020-10-22</td>\n",
       "      <td>121569811</td>\n",
       "      <td>7</td>\n",
       "    </tr>\n",
       "    <tr>\n",
       "      <th>3</th>\n",
       "      <td>2020-10-20</td>\n",
       "      <td>121569811</td>\n",
       "      <td>4</td>\n",
       "    </tr>\n",
       "    <tr>\n",
       "      <th>4</th>\n",
       "      <td>2020-10-21</td>\n",
       "      <td>145409967</td>\n",
       "      <td>1</td>\n",
       "    </tr>\n",
       "    <tr>\n",
       "      <th>...</th>\n",
       "      <td>...</td>\n",
       "      <td>...</td>\n",
       "      <td>...</td>\n",
       "    </tr>\n",
       "    <tr>\n",
       "      <th>35149</th>\n",
       "      <td>2020-10-23</td>\n",
       "      <td>128444081</td>\n",
       "      <td>1</td>\n",
       "    </tr>\n",
       "    <tr>\n",
       "      <th>35150</th>\n",
       "      <td>2020-10-22</td>\n",
       "      <td>113617636</td>\n",
       "      <td>9</td>\n",
       "    </tr>\n",
       "    <tr>\n",
       "      <th>35151</th>\n",
       "      <td>2020-10-23</td>\n",
       "      <td>113617636</td>\n",
       "      <td>7</td>\n",
       "    </tr>\n",
       "    <tr>\n",
       "      <th>35152</th>\n",
       "      <td>2020-10-22</td>\n",
       "      <td>130840356</td>\n",
       "      <td>15</td>\n",
       "    </tr>\n",
       "    <tr>\n",
       "      <th>35153</th>\n",
       "      <td>2020-10-23</td>\n",
       "      <td>130840356</td>\n",
       "      <td>12</td>\n",
       "    </tr>\n",
       "  </tbody>\n",
       "</table>\n",
       "<p>35154 rows × 3 columns</p>\n",
       "</div>"
      ],
      "text/plain": [
       "             date distinct_id  game_num\n",
       "0      2020-10-23   121569811         3\n",
       "1      2020-10-21   121569811        12\n",
       "2      2020-10-22   121569811         7\n",
       "3      2020-10-20   121569811         4\n",
       "4      2020-10-21   145409967         1\n",
       "...           ...         ...       ...\n",
       "35149  2020-10-23   128444081         1\n",
       "35150  2020-10-22   113617636         9\n",
       "35151  2020-10-23   113617636         7\n",
       "35152  2020-10-22   130840356        15\n",
       "35153  2020-10-23   130840356        12\n",
       "\n",
       "[35154 rows x 3 columns]"
      ]
     },
     "execution_count": 6,
     "metadata": {},
     "output_type": "execute_result"
    }
   ],
   "source": [
    "df_B"
   ]
  },
  {
   "cell_type": "code",
   "execution_count": 5,
   "metadata": {},
   "outputs": [
    {
     "data": {
      "text/plain": [
       "['2020-10-23', '2020-10-22', '2020-10-21', '2020-10-20', '2020-10-19']"
      ]
     },
     "execution_count": 5,
     "metadata": {},
     "output_type": "execute_result"
    }
   ],
   "source": [
    "list(df_A['date'].unique())"
   ]
  },
  {
   "cell_type": "markdown",
   "metadata": {},
   "source": [
    "## 19号的游戏局数分位数"
   ]
  },
  {
   "cell_type": "code",
   "execution_count": 21,
   "metadata": {},
   "outputs": [],
   "source": [
    "df_A[df_A['date'] == list(df_B.date.unique())[-1]].describe().T.to_clipboard()"
   ]
  },
  {
   "cell_type": "code",
   "execution_count": 22,
   "metadata": {},
   "outputs": [],
   "source": [
    "df_B[df_B['date'] == list(df_B.date.unique())[-1]].describe().T.to_clipboard()"
   ]
  },
  {
   "cell_type": "markdown",
   "metadata": {},
   "source": [
    "## 20号的游戏局数分位数"
   ]
  },
  {
   "cell_type": "code",
   "execution_count": 23,
   "metadata": {},
   "outputs": [],
   "source": [
    "df_A[df_A['date'] == list(df_B.date.unique())[3]].describe().T.to_clipboard()"
   ]
  },
  {
   "cell_type": "code",
   "execution_count": 24,
   "metadata": {},
   "outputs": [],
   "source": [
    "df_B[df_B['date'] == list(df_B.date.unique())[3]].describe().T.to_clipboard()"
   ]
  },
  {
   "cell_type": "markdown",
   "metadata": {},
   "source": [
    "## 21号的游戏局数分位数"
   ]
  },
  {
   "cell_type": "code",
   "execution_count": 25,
   "metadata": {},
   "outputs": [],
   "source": [
    "df_A[df_A['date'] == list(df_B.date.unique())[2]].describe().T.to_clipboard()"
   ]
  },
  {
   "cell_type": "code",
   "execution_count": 26,
   "metadata": {},
   "outputs": [],
   "source": [
    "df_B[df_B['date'] == list(df_B.date.unique())[2]].describe().T.to_clipboard()"
   ]
  },
  {
   "cell_type": "markdown",
   "metadata": {},
   "source": [
    "## 22号的游戏局数分位数"
   ]
  },
  {
   "cell_type": "code",
   "execution_count": 27,
   "metadata": {},
   "outputs": [],
   "source": [
    "df_A[df_A['date'] == list(df_B.date.unique())[1]].describe().T.to_clipboard()"
   ]
  },
  {
   "cell_type": "code",
   "execution_count": 28,
   "metadata": {},
   "outputs": [],
   "source": [
    "df_B[df_B['date'] == list(df_B.date.unique())[1]].describe().T.to_clipboard()"
   ]
  },
  {
   "cell_type": "code",
   "execution_count": null,
   "metadata": {},
   "outputs": [],
   "source": []
  }
 ],
 "metadata": {
  "kernelspec": {
   "display_name": "Python 3",
   "language": "python",
   "name": "python3"
  },
  "language_info": {
   "codemirror_mode": {
    "name": "ipython",
    "version": 3
   },
   "file_extension": ".py",
   "mimetype": "text/x-python",
   "name": "python",
   "nbconvert_exporter": "python",
   "pygments_lexer": "ipython3",
   "version": "3.7.8"
  }
 },
 "nbformat": 4,
 "nbformat_minor": 4
}
