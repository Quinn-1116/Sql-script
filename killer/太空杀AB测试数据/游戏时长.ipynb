{
 "cells": [
  {
   "cell_type": "code",
   "execution_count": 2,
   "metadata": {},
   "outputs": [],
   "source": [
    "import numpy as np\n",
    "import pandas as pd\n",
    "import json\n",
    "import requests\n",
    "def ssql(sql):\n",
    "    admin_token = '2cebeb5c7edac5ef0d7c5a640e69fc7d43bf2cd6a24ce43dfee3dd33662c0bab'\n",
    "    url = 'http://sensor.wb-intra.com/api/sql/query?token=%s&project=production' % admin_token\n",
    "    data = {'q': sql, 'format': 'json'}\n",
    "    req = requests.post(url,data)\n",
    "    req_dec = req.content.decode()\n",
    "    try:\n",
    "        req_json = json.loads('[' + req_dec.replace('\\n', ',')[:-1] + ']')\n",
    "        df_d_id = pd.DataFrame(req_json)\n",
    "        return df_d_id\n",
    "    except:\n",
    "        print(req_dec)"
   ]
  },
  {
   "cell_type": "code",
   "execution_count": 3,
   "metadata": {},
   "outputs": [],
   "source": [
    "df_A = ssql(\"\"\"SELECT t2.date,\n",
    "       t2.distinct_id,\n",
    "       t2.duration\n",
    "FROM\n",
    "  (SELECT second_id\n",
    "   FROM users\n",
    "   WHERE reg_channelId IN ('114',\n",
    "                           '130')\n",
    "   GROUP BY 1) t1\n",
    "JOIN\n",
    "  (SELECT date, distinct_id,\n",
    "                sum(duration/60000)AS duration\n",
    "   FROM events\n",
    "   WHERE event = 'gameOver'\n",
    "     AND gameTypeId = 1800\n",
    "     AND date BETWEEN '2020-10-19' AND CURRENT_DATE()\n",
    "   GROUP BY 1,\n",
    "            2)t2 ON t1.second_id = t2.distinct_id\"\"\")"
   ]
  },
  {
   "cell_type": "code",
   "execution_count": 4,
   "metadata": {},
   "outputs": [],
   "source": [
    "df_B = ssql(\"\"\"SELECT t2.date, t2.distinct_id,\n",
    "                t2.duration\n",
    "FROM\n",
    "  (SELECT second_id\n",
    "   FROM users\n",
    "   WHERE reg_channelId IN ('131',\n",
    "                           '122',\n",
    "                           '113',\n",
    "                           '111',\n",
    "                           '127',\n",
    "                           '112',\n",
    "                           '125',\n",
    "                           '116')\n",
    "   GROUP BY 1) t1\n",
    "JOIN\n",
    "  (SELECT date, distinct_id,\n",
    "                sum(duration/60000)AS duration\n",
    "   FROM events\n",
    "   WHERE event = 'gameOver'\n",
    "     AND gameTypeId = 1800\n",
    "     AND date BETWEEN '2020-10-19' AND CURRENT_DATE()\n",
    "   GROUP BY 1,\n",
    "            2)t2 ON t1.second_id = t2.distinct_id\"\"\")"
   ]
  },
  {
   "cell_type": "code",
   "execution_count": 5,
   "metadata": {},
   "outputs": [
    {
     "data": {
      "text/html": [
       "<div>\n",
       "<style scoped>\n",
       "    .dataframe tbody tr th:only-of-type {\n",
       "        vertical-align: middle;\n",
       "    }\n",
       "\n",
       "    .dataframe tbody tr th {\n",
       "        vertical-align: top;\n",
       "    }\n",
       "\n",
       "    .dataframe thead th {\n",
       "        text-align: right;\n",
       "    }\n",
       "</style>\n",
       "<table border=\"1\" class=\"dataframe\">\n",
       "  <thead>\n",
       "    <tr style=\"text-align: right;\">\n",
       "      <th></th>\n",
       "      <th>date</th>\n",
       "      <th>duration</th>\n",
       "      <th>distinct_id</th>\n",
       "    </tr>\n",
       "  </thead>\n",
       "  <tbody>\n",
       "    <tr>\n",
       "      <th>0</th>\n",
       "      <td>2020-10-23</td>\n",
       "      <td>187.098</td>\n",
       "      <td>117725141</td>\n",
       "    </tr>\n",
       "    <tr>\n",
       "      <th>1</th>\n",
       "      <td>2020-10-22</td>\n",
       "      <td>44.621</td>\n",
       "      <td>149809835</td>\n",
       "    </tr>\n",
       "    <tr>\n",
       "      <th>2</th>\n",
       "      <td>2020-10-23</td>\n",
       "      <td>24.699</td>\n",
       "      <td>149809835</td>\n",
       "    </tr>\n",
       "    <tr>\n",
       "      <th>3</th>\n",
       "      <td>2020-10-22</td>\n",
       "      <td>13.150</td>\n",
       "      <td>116800600</td>\n",
       "    </tr>\n",
       "    <tr>\n",
       "      <th>4</th>\n",
       "      <td>2020-10-23</td>\n",
       "      <td>19.472</td>\n",
       "      <td>115614450</td>\n",
       "    </tr>\n",
       "    <tr>\n",
       "      <th>...</th>\n",
       "      <td>...</td>\n",
       "      <td>...</td>\n",
       "      <td>...</td>\n",
       "    </tr>\n",
       "    <tr>\n",
       "      <th>20124</th>\n",
       "      <td>2020-10-22</td>\n",
       "      <td>68.490</td>\n",
       "      <td>126617676</td>\n",
       "    </tr>\n",
       "    <tr>\n",
       "      <th>20125</th>\n",
       "      <td>2020-10-22</td>\n",
       "      <td>62.850</td>\n",
       "      <td>135735065</td>\n",
       "    </tr>\n",
       "    <tr>\n",
       "      <th>20126</th>\n",
       "      <td>2020-10-22</td>\n",
       "      <td>17.460</td>\n",
       "      <td>116551910</td>\n",
       "    </tr>\n",
       "    <tr>\n",
       "      <th>20127</th>\n",
       "      <td>2020-10-23</td>\n",
       "      <td>23.367</td>\n",
       "      <td>116551910</td>\n",
       "    </tr>\n",
       "    <tr>\n",
       "      <th>20128</th>\n",
       "      <td>2020-10-22</td>\n",
       "      <td>5.540</td>\n",
       "      <td>147520906</td>\n",
       "    </tr>\n",
       "  </tbody>\n",
       "</table>\n",
       "<p>20129 rows × 3 columns</p>\n",
       "</div>"
      ],
      "text/plain": [
       "             date  duration distinct_id\n",
       "0      2020-10-23   187.098   117725141\n",
       "1      2020-10-22    44.621   149809835\n",
       "2      2020-10-23    24.699   149809835\n",
       "3      2020-10-22    13.150   116800600\n",
       "4      2020-10-23    19.472   115614450\n",
       "...           ...       ...         ...\n",
       "20124  2020-10-22    68.490   126617676\n",
       "20125  2020-10-22    62.850   135735065\n",
       "20126  2020-10-22    17.460   116551910\n",
       "20127  2020-10-23    23.367   116551910\n",
       "20128  2020-10-22     5.540   147520906\n",
       "\n",
       "[20129 rows x 3 columns]"
      ]
     },
     "execution_count": 5,
     "metadata": {},
     "output_type": "execute_result"
    }
   ],
   "source": [
    "df_A"
   ]
  },
  {
   "cell_type": "code",
   "execution_count": 6,
   "metadata": {},
   "outputs": [
    {
     "data": {
      "text/html": [
       "<div>\n",
       "<style scoped>\n",
       "    .dataframe tbody tr th:only-of-type {\n",
       "        vertical-align: middle;\n",
       "    }\n",
       "\n",
       "    .dataframe tbody tr th {\n",
       "        vertical-align: top;\n",
       "    }\n",
       "\n",
       "    .dataframe thead th {\n",
       "        text-align: right;\n",
       "    }\n",
       "</style>\n",
       "<table border=\"1\" class=\"dataframe\">\n",
       "  <thead>\n",
       "    <tr style=\"text-align: right;\">\n",
       "      <th></th>\n",
       "      <th>date</th>\n",
       "      <th>duration</th>\n",
       "      <th>distinct_id</th>\n",
       "    </tr>\n",
       "  </thead>\n",
       "  <tbody>\n",
       "    <tr>\n",
       "      <th>0</th>\n",
       "      <td>2020-10-22</td>\n",
       "      <td>25.749</td>\n",
       "      <td>121569811</td>\n",
       "    </tr>\n",
       "    <tr>\n",
       "      <th>1</th>\n",
       "      <td>2020-10-21</td>\n",
       "      <td>78.490</td>\n",
       "      <td>121569811</td>\n",
       "    </tr>\n",
       "    <tr>\n",
       "      <th>2</th>\n",
       "      <td>2020-10-20</td>\n",
       "      <td>36.435</td>\n",
       "      <td>121569811</td>\n",
       "    </tr>\n",
       "    <tr>\n",
       "      <th>3</th>\n",
       "      <td>2020-10-20</td>\n",
       "      <td>9.884</td>\n",
       "      <td>145409967</td>\n",
       "    </tr>\n",
       "    <tr>\n",
       "      <th>4</th>\n",
       "      <td>2020-10-23</td>\n",
       "      <td>63.574</td>\n",
       "      <td>137662419</td>\n",
       "    </tr>\n",
       "    <tr>\n",
       "      <th>...</th>\n",
       "      <td>...</td>\n",
       "      <td>...</td>\n",
       "      <td>...</td>\n",
       "    </tr>\n",
       "    <tr>\n",
       "      <th>34246</th>\n",
       "      <td>2020-10-20</td>\n",
       "      <td>9.798</td>\n",
       "      <td>148608129</td>\n",
       "    </tr>\n",
       "    <tr>\n",
       "      <th>34247</th>\n",
       "      <td>2020-10-21</td>\n",
       "      <td>18.916</td>\n",
       "      <td>148608129</td>\n",
       "    </tr>\n",
       "    <tr>\n",
       "      <th>34248</th>\n",
       "      <td>2020-10-22</td>\n",
       "      <td>43.307</td>\n",
       "      <td>139743387</td>\n",
       "    </tr>\n",
       "    <tr>\n",
       "      <th>34249</th>\n",
       "      <td>2020-10-23</td>\n",
       "      <td>35.130</td>\n",
       "      <td>139743387</td>\n",
       "    </tr>\n",
       "    <tr>\n",
       "      <th>34250</th>\n",
       "      <td>2020-10-22</td>\n",
       "      <td>10.901</td>\n",
       "      <td>126506841</td>\n",
       "    </tr>\n",
       "  </tbody>\n",
       "</table>\n",
       "<p>34251 rows × 3 columns</p>\n",
       "</div>"
      ],
      "text/plain": [
       "             date  duration distinct_id\n",
       "0      2020-10-22    25.749   121569811\n",
       "1      2020-10-21    78.490   121569811\n",
       "2      2020-10-20    36.435   121569811\n",
       "3      2020-10-20     9.884   145409967\n",
       "4      2020-10-23    63.574   137662419\n",
       "...           ...       ...         ...\n",
       "34246  2020-10-20     9.798   148608129\n",
       "34247  2020-10-21    18.916   148608129\n",
       "34248  2020-10-22    43.307   139743387\n",
       "34249  2020-10-23    35.130   139743387\n",
       "34250  2020-10-22    10.901   126506841\n",
       "\n",
       "[34251 rows x 3 columns]"
      ]
     },
     "execution_count": 6,
     "metadata": {},
     "output_type": "execute_result"
    }
   ],
   "source": [
    "df_B"
   ]
  },
  {
   "cell_type": "code",
   "execution_count": 37,
   "metadata": {},
   "outputs": [
    {
     "data": {
      "text/plain": [
       "['2020-10-22', '2020-10-21', '2020-10-20', '2020-10-23', '2020-10-19']"
      ]
     },
     "execution_count": 37,
     "metadata": {},
     "output_type": "execute_result"
    }
   ],
   "source": [
    "list(df_B.date.unique())"
   ]
  },
  {
   "cell_type": "markdown",
   "metadata": {},
   "source": [
    "## 19号的游戏时长对比"
   ]
  },
  {
   "cell_type": "markdown",
   "metadata": {},
   "source": [
    "### 单游戏形态"
   ]
  },
  {
   "cell_type": "code",
   "execution_count": 45,
   "metadata": {},
   "outputs": [],
   "source": [
    "df_A[df_A['date'] == list(df_B.date.unique())[-1]].describe().T.to_clipboard()"
   ]
  },
  {
   "cell_type": "markdown",
   "metadata": {},
   "source": [
    "### 玩吧形态"
   ]
  },
  {
   "cell_type": "code",
   "execution_count": 46,
   "metadata": {},
   "outputs": [],
   "source": [
    "df_B[df_B['date'] == list(df_B.date.unique())[-1]].describe().T.to_clipboard()"
   ]
  },
  {
   "cell_type": "markdown",
   "metadata": {},
   "source": [
    "## 20号的游戏时长对比"
   ]
  },
  {
   "cell_type": "markdown",
   "metadata": {},
   "source": [
    "### 单游戏形态"
   ]
  },
  {
   "cell_type": "code",
   "execution_count": 47,
   "metadata": {},
   "outputs": [],
   "source": [
    "df_A[df_A['date'] == list(df_B.date.unique())[2]].describe().T.to_clipboard()"
   ]
  },
  {
   "cell_type": "markdown",
   "metadata": {},
   "source": [
    "### 玩吧形态"
   ]
  },
  {
   "cell_type": "code",
   "execution_count": 48,
   "metadata": {},
   "outputs": [],
   "source": [
    "df_B[df_B['date'] == list(df_B.date.unique())[2]].describe().T.to_clipboard()"
   ]
  },
  {
   "cell_type": "markdown",
   "metadata": {},
   "source": [
    "## 21号的游戏时长对比"
   ]
  },
  {
   "cell_type": "markdown",
   "metadata": {},
   "source": [
    "### 单游戏形态"
   ]
  },
  {
   "cell_type": "code",
   "execution_count": 49,
   "metadata": {},
   "outputs": [],
   "source": [
    "df_A[df_A['date'] == list(df_B.date.unique())[1]].describe().T.to_clipboard()"
   ]
  },
  {
   "cell_type": "markdown",
   "metadata": {},
   "source": [
    "### 玩吧形态"
   ]
  },
  {
   "cell_type": "code",
   "execution_count": 50,
   "metadata": {},
   "outputs": [],
   "source": [
    "df_B[df_B['date'] == list(df_B.date.unique())[1]].describe().T.to_clipboard()"
   ]
  },
  {
   "cell_type": "markdown",
   "metadata": {},
   "source": [
    "## 22号的游戏时长对比"
   ]
  },
  {
   "cell_type": "markdown",
   "metadata": {},
   "source": [
    "### 单游戏形态"
   ]
  },
  {
   "cell_type": "code",
   "execution_count": 51,
   "metadata": {},
   "outputs": [],
   "source": [
    "df_A[df_A['date'] == list(df_B.date.unique())[0]].describe().T.to_clipboard()"
   ]
  },
  {
   "cell_type": "markdown",
   "metadata": {},
   "source": [
    "### 玩吧形态"
   ]
  },
  {
   "cell_type": "code",
   "execution_count": 52,
   "metadata": {},
   "outputs": [],
   "source": [
    "df_B[df_B['date'] == list(df_B.date.unique())[0]].describe().T.to_clipboard()"
   ]
  },
  {
   "cell_type": "code",
   "execution_count": null,
   "metadata": {},
   "outputs": [],
   "source": []
  }
 ],
 "metadata": {
  "kernelspec": {
   "display_name": "Python 3",
   "language": "python",
   "name": "python3"
  },
  "language_info": {
   "codemirror_mode": {
    "name": "ipython",
    "version": 3
   },
   "file_extension": ".py",
   "mimetype": "text/x-python",
   "name": "python",
   "nbconvert_exporter": "python",
   "pygments_lexer": "ipython3",
   "version": "3.7.8"
  }
 },
 "nbformat": 4,
 "nbformat_minor": 4
}
